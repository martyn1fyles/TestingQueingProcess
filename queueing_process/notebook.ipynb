{
 "cells": [
  {
   "cell_type": "code",
   "execution_count": 1,
   "metadata": {},
   "outputs": [],
   "source": [
    "import queueing_process as qp\n",
    "import matplotlib.pyplot as plt\n",
    "import numpy as np"
   ]
  },
  {
   "cell_type": "code",
   "execution_count": null,
   "metadata": {},
   "outputs": [],
   "source": [
    "# Placeholder delay distributions"
   ]
  },
  {
   "cell_type": "code",
   "execution_count": 2,
   "metadata": {},
   "outputs": [],
   "source": [
    "def symptom_onset_to_joining_queue():\n",
    "    return 2"
   ]
  },
  {
   "cell_type": "code",
   "execution_count": 3,
   "metadata": {},
   "outputs": [],
   "source": [
    "def test_processing_delay_dist():\n",
    "    return 1"
   ]
  },
  {
   "cell_type": "code",
   "execution_count": 30,
   "metadata": {},
   "outputs": [],
   "source": [
    "days_to_simulate = 75\n",
    "demand = [int(round(100*np.exp(0.05 * time))) for time in range(days_to_simulate)] \n",
    "capacity = [5 + time * 5 for time in range(days_to_simulate)]"
   ]
  },
  {
   "cell_type": "code",
   "execution_count": 31,
   "metadata": {},
   "outputs": [],
   "source": [
    "my_queue = qp.queueing_process(\n",
    "    days_to_simulate = days_to_simulate,\n",
    "    capacity = capacity,\n",
    "    demand = demand,\n",
    "    symptom_onset_to_joining_queue_dist = symptom_onset_to_joining_queue,\n",
    "    test_processing_delay_dist = test_processing_delay_dist\n",
    ")"
   ]
  },
  {
   "cell_type": "code",
   "execution_count": 32,
   "metadata": {},
   "outputs": [
    {
     "name": "stdout",
     "output_type": "stream",
     "text": [
      "Model time 74, progress: 100%\r"
     ]
    }
   ],
   "source": [
    "my_queue.run_simulation()"
   ]
  },
  {
   "cell_type": "code",
   "execution_count": 33,
   "metadata": {},
   "outputs": [
    {
     "data": {
      "text/html": [
       "<div>\n",
       "<style scoped>\n",
       "    .dataframe tbody tr th:only-of-type {\n",
       "        vertical-align: middle;\n",
       "    }\n",
       "\n",
       "    .dataframe tbody tr th {\n",
       "        vertical-align: top;\n",
       "    }\n",
       "\n",
       "    .dataframe thead th {\n",
       "        text-align: right;\n",
       "    }\n",
       "</style>\n",
       "<table border=\"1\" class=\"dataframe\">\n",
       "  <thead>\n",
       "    <tr style=\"text-align: right;\">\n",
       "      <th></th>\n",
       "      <th>time</th>\n",
       "      <th>new_applicants</th>\n",
       "      <th>capacity</th>\n",
       "      <th>spillover_to_next_day</th>\n",
       "      <th>total_applications_today</th>\n",
       "      <th>capacity_exceeded</th>\n",
       "      <th>capacity_exceeded_by</th>\n",
       "      <th>number_swabbed_today</th>\n",
       "      <th>number_left_queue_not_tested</th>\n",
       "    </tr>\n",
       "  </thead>\n",
       "  <tbody>\n",
       "    <tr>\n",
       "      <th>0</th>\n",
       "      <td>0</td>\n",
       "      <td>100</td>\n",
       "      <td>500</td>\n",
       "      <td>0</td>\n",
       "      <td>100</td>\n",
       "      <td>False</td>\n",
       "      <td>0</td>\n",
       "      <td>100</td>\n",
       "      <td>0</td>\n",
       "    </tr>\n",
       "    <tr>\n",
       "      <th>1</th>\n",
       "      <td>1</td>\n",
       "      <td>105</td>\n",
       "      <td>505</td>\n",
       "      <td>0</td>\n",
       "      <td>105</td>\n",
       "      <td>False</td>\n",
       "      <td>0</td>\n",
       "      <td>105</td>\n",
       "      <td>0</td>\n",
       "    </tr>\n",
       "    <tr>\n",
       "      <th>2</th>\n",
       "      <td>2</td>\n",
       "      <td>111</td>\n",
       "      <td>510</td>\n",
       "      <td>0</td>\n",
       "      <td>111</td>\n",
       "      <td>False</td>\n",
       "      <td>0</td>\n",
       "      <td>111</td>\n",
       "      <td>0</td>\n",
       "    </tr>\n",
       "    <tr>\n",
       "      <th>3</th>\n",
       "      <td>3</td>\n",
       "      <td>116</td>\n",
       "      <td>515</td>\n",
       "      <td>0</td>\n",
       "      <td>116</td>\n",
       "      <td>False</td>\n",
       "      <td>0</td>\n",
       "      <td>116</td>\n",
       "      <td>0</td>\n",
       "    </tr>\n",
       "    <tr>\n",
       "      <th>4</th>\n",
       "      <td>4</td>\n",
       "      <td>122</td>\n",
       "      <td>520</td>\n",
       "      <td>0</td>\n",
       "      <td>122</td>\n",
       "      <td>False</td>\n",
       "      <td>0</td>\n",
       "      <td>122</td>\n",
       "      <td>0</td>\n",
       "    </tr>\n",
       "    <tr>\n",
       "      <th>...</th>\n",
       "      <td>...</td>\n",
       "      <td>...</td>\n",
       "      <td>...</td>\n",
       "      <td>...</td>\n",
       "      <td>...</td>\n",
       "      <td>...</td>\n",
       "      <td>...</td>\n",
       "      <td>...</td>\n",
       "      <td>...</td>\n",
       "    </tr>\n",
       "    <tr>\n",
       "      <th>70</th>\n",
       "      <td>70</td>\n",
       "      <td>3312</td>\n",
       "      <td>850</td>\n",
       "      <td>11525</td>\n",
       "      <td>13130</td>\n",
       "      <td>True</td>\n",
       "      <td>12280</td>\n",
       "      <td>850</td>\n",
       "      <td>1707</td>\n",
       "    </tr>\n",
       "    <tr>\n",
       "      <th>71</th>\n",
       "      <td>71</td>\n",
       "      <td>3481</td>\n",
       "      <td>855</td>\n",
       "      <td>12280</td>\n",
       "      <td>13908</td>\n",
       "      <td>True</td>\n",
       "      <td>13053</td>\n",
       "      <td>855</td>\n",
       "      <td>1853</td>\n",
       "    </tr>\n",
       "    <tr>\n",
       "      <th>72</th>\n",
       "      <td>72</td>\n",
       "      <td>3660</td>\n",
       "      <td>860</td>\n",
       "      <td>13053</td>\n",
       "      <td>14663</td>\n",
       "      <td>True</td>\n",
       "      <td>13803</td>\n",
       "      <td>860</td>\n",
       "      <td>2050</td>\n",
       "    </tr>\n",
       "    <tr>\n",
       "      <th>73</th>\n",
       "      <td>73</td>\n",
       "      <td>3847</td>\n",
       "      <td>865</td>\n",
       "      <td>13803</td>\n",
       "      <td>15502</td>\n",
       "      <td>True</td>\n",
       "      <td>14637</td>\n",
       "      <td>865</td>\n",
       "      <td>2148</td>\n",
       "    </tr>\n",
       "    <tr>\n",
       "      <th>74</th>\n",
       "      <td>74</td>\n",
       "      <td>4045</td>\n",
       "      <td>870</td>\n",
       "      <td>14637</td>\n",
       "      <td>16373</td>\n",
       "      <td>True</td>\n",
       "      <td>15503</td>\n",
       "      <td>870</td>\n",
       "      <td>2309</td>\n",
       "    </tr>\n",
       "  </tbody>\n",
       "</table>\n",
       "<p>75 rows × 9 columns</p>\n",
       "</div>"
      ],
      "text/plain": [
       "    time  new_applicants  capacity spillover_to_next_day  \\\n",
       "0      0             100       500                     0   \n",
       "1      1             105       505                     0   \n",
       "2      2             111       510                     0   \n",
       "3      3             116       515                     0   \n",
       "4      4             122       520                     0   \n",
       "..   ...             ...       ...                   ...   \n",
       "70    70            3312       850                 11525   \n",
       "71    71            3481       855                 12280   \n",
       "72    72            3660       860                 13053   \n",
       "73    73            3847       865                 13803   \n",
       "74    74            4045       870                 14637   \n",
       "\n",
       "   total_applications_today capacity_exceeded capacity_exceeded_by  \\\n",
       "0                       100             False                    0   \n",
       "1                       105             False                    0   \n",
       "2                       111             False                    0   \n",
       "3                       116             False                    0   \n",
       "4                       122             False                    0   \n",
       "..                      ...               ...                  ...   \n",
       "70                    13130              True                12280   \n",
       "71                    13908              True                13053   \n",
       "72                    14663              True                13803   \n",
       "73                    15502              True                14637   \n",
       "74                    16373              True                15503   \n",
       "\n",
       "   number_swabbed_today number_left_queue_not_tested  \n",
       "0                   100                            0  \n",
       "1                   105                            0  \n",
       "2                   111                            0  \n",
       "3                   116                            0  \n",
       "4                   122                            0  \n",
       "..                  ...                          ...  \n",
       "70                  850                         1707  \n",
       "71                  855                         1853  \n",
       "72                  860                         2050  \n",
       "73                  865                         2148  \n",
       "74                  870                         2309  \n",
       "\n",
       "[75 rows x 9 columns]"
      ]
     },
     "execution_count": 33,
     "metadata": {},
     "output_type": "execute_result"
    }
   ],
   "source": [
    "my_queue.queue_info"
   ]
  },
  {
   "cell_type": "code",
   "execution_count": 35,
   "metadata": {},
   "outputs": [
    {
     "data": {
      "text/plain": [
       "Text(0.5, 1.0, 'Queueing process summary statistics')"
      ]
     },
     "execution_count": 35,
     "metadata": {},
     "output_type": "execute_result"
    },
    {
     "data": {
      "image/png": "[encoded data removed]",
      "text/plain": [
       "<Figure size 432x288 with 1 Axes>"
      ]
     },
     "metadata": {
      "needs_background": "light"
     },
     "output_type": "display_data"
    }
   ],
   "source": [
    "plt.plot('time','capacity_exceeded_by', data = my_queue.queue_info)\n",
    "plt.plot('time','capacity', data = my_queue.queue_info)\n",
    "plt.plot('time','spillover_to_next_day', data = my_queue.queue_info)\n",
    "plt.plot('time','number_left_queue_not_tested', data = my_queue.queue_info)\n",
    "plt.plot('time','new_applicants', data = my_queue.queue_info)\n",
    "plt.legend()\n",
    "plt.title('Queueing process summary statistics')"
   ]
  },
  {
   "cell_type": "code",
   "execution_count": 11,
   "metadata": {},
   "outputs": [
    {
     "data": {
      "text/plain": [
       "Text(0.5, 1.0, 'Symptom onset to receiving result distribution on day 60')"
      ]
     },
     "execution_count": 11,
     "metadata": {},
     "output_type": "execute_result"
    },
    {
     "data": {
      "image/png": "[encoded data removed]",
      "text/plain": [
       "<Figure size 432x288 with 1 Axes>"
      ]
     },
     "metadata": {
      "needs_background": "light"
     },
     "output_type": "display_data"
    }
   ],
   "source": [
    "time = 60\n",
    "\n",
    "delays = my_queue.get_delays_for(time_entered_queue = time,\n",
    "                                 delay_from_column = 'symptom_onset',\n",
    "                                 delay_to_column = 'time_received_result')\n",
    "\n",
    "bin_count = delays.max() - delays.min()\n",
    "\n",
    "delays.hist(bins = bin_count, grid = False)\n",
    "plt.title(f'Symptom onset to receiving result distribution on day {time}')"
   ]
  },
  {
   "cell_type": "code",
   "execution_count": null,
   "metadata": {},
   "outputs": [],
   "source": []
  }
 ],
 "metadata": {
  "kernelspec": {
   "display_name": "Python 3.8.3 64-bit (conda)",
   "language": "python",
   "name": "python38364bitconda92027b03cb4c449199064b12fc402ff9"
  },
  "language_info": {
   "codemirror_mode": {
    "name": "ipython",
    "version": 3
   },
   "file_extension": ".py",
   "mimetype": "text/x-python",
   "name": "python",
   "nbconvert_exporter": "python",
   "pygments_lexer": "ipython3",
   "version": "3.8.3"
  }
 },
 "nbformat": 4,
 "nbformat_minor": 4
}
