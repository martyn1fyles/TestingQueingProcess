{
 "cells": [
  {
   "cell_type": "code",
   "execution_count": 1,
   "metadata": {},
   "outputs": [],
   "source": [
    "import queueing_process as qp\n",
    "import matplotlib.pyplot as plt\n",
    "import numpy as np"
   ]
  },
  {
   "cell_type": "markdown",
   "metadata": {},
   "source": [
    "# Placeholder delay distributions"
   ]
  },
  {
   "cell_type": "code",
   "execution_count": 2,
   "metadata": {},
   "outputs": [],
   "source": [
    "def symptom_onset_to_joining_queue():\n",
    "    return 2"
   ]
  },
  {
   "cell_type": "code",
   "execution_count": 3,
   "metadata": {},
   "outputs": [],
   "source": [
    "def test_processing_delay_dist():\n",
    "    return 1"
   ]
  },
  {
   "cell_type": "markdown",
   "metadata": {},
   "source": [
    "# Model set up"
   ]
  },
  {
   "cell_type": "code",
   "execution_count": 4,
   "metadata": {},
   "outputs": [],
   "source": [
    "days_to_simulate = 150\n",
    "demand = [int(round(100*np.exp(0.05 * time))) for time in range(days_to_simulate)] \n",
    "capacity = [500 + time * 10 for time in range(days_to_simulate)]"
   ]
  },
  {
   "cell_type": "code",
   "execution_count": 5,
   "metadata": {},
   "outputs": [],
   "source": [
    "my_queue = qp.queueing_process(\n",
    "    days_to_simulate = days_to_simulate,\n",
    "    capacity = capacity,\n",
    "    demand = demand,\n",
    "    symptom_onset_to_joining_queue_dist = symptom_onset_to_joining_queue,\n",
    "    test_processing_delay_dist = test_processing_delay_dist\n",
    ")"
   ]
  },
  {
   "cell_type": "code",
   "execution_count": 6,
   "metadata": {},
   "outputs": [
    {
     "name": "stdout",
     "output_type": "stream",
     "text": [
      "Model time 149, progress: 100%\r"
     ]
    }
   ],
   "source": [
    "%%time\n",
    "my_queue.run_simulation()"
   ]
  },
  {
   "cell_type": "code",
   "execution_count": 7,
   "metadata": {},
   "outputs": [
    {
     "data": {
      "text/html": [
       "<div>\n",
       "<style scoped>\n",
       "    .dataframe tbody tr th:only-of-type {\n",
       "        vertical-align: middle;\n",
       "    }\n",
       "\n",
       "    .dataframe tbody tr th {\n",
       "        vertical-align: top;\n",
       "    }\n",
       "\n",
       "    .dataframe thead th {\n",
       "        text-align: right;\n",
       "    }\n",
       "</style>\n",
       "<table border=\"1\" class=\"dataframe\">\n",
       "  <thead>\n",
       "    <tr style=\"text-align: right;\">\n",
       "      <th></th>\n",
       "      <th>time</th>\n",
       "      <th>new_applicants</th>\n",
       "      <th>capacity</th>\n",
       "      <th>spillover_to_next_day</th>\n",
       "      <th>total_applications_today</th>\n",
       "      <th>capacity_exceeded</th>\n",
       "      <th>capacity_exceeded_by</th>\n",
       "      <th>number_swabbed_today</th>\n",
       "      <th>number_left_queue_not_tested</th>\n",
       "    </tr>\n",
       "  </thead>\n",
       "  <tbody>\n",
       "    <tr>\n",
       "      <th>0</th>\n",
       "      <td>0</td>\n",
       "      <td>100</td>\n",
       "      <td>500</td>\n",
       "      <td>0</td>\n",
       "      <td>100</td>\n",
       "      <td>False</td>\n",
       "      <td>0</td>\n",
       "      <td>100</td>\n",
       "      <td>0</td>\n",
       "    </tr>\n",
       "    <tr>\n",
       "      <th>1</th>\n",
       "      <td>1</td>\n",
       "      <td>105</td>\n",
       "      <td>510</td>\n",
       "      <td>0</td>\n",
       "      <td>105</td>\n",
       "      <td>False</td>\n",
       "      <td>0</td>\n",
       "      <td>105</td>\n",
       "      <td>0</td>\n",
       "    </tr>\n",
       "    <tr>\n",
       "      <th>2</th>\n",
       "      <td>2</td>\n",
       "      <td>111</td>\n",
       "      <td>520</td>\n",
       "      <td>0</td>\n",
       "      <td>111</td>\n",
       "      <td>False</td>\n",
       "      <td>0</td>\n",
       "      <td>111</td>\n",
       "      <td>0</td>\n",
       "    </tr>\n",
       "    <tr>\n",
       "      <th>3</th>\n",
       "      <td>3</td>\n",
       "      <td>116</td>\n",
       "      <td>530</td>\n",
       "      <td>0</td>\n",
       "      <td>116</td>\n",
       "      <td>False</td>\n",
       "      <td>0</td>\n",
       "      <td>116</td>\n",
       "      <td>0</td>\n",
       "    </tr>\n",
       "    <tr>\n",
       "      <th>4</th>\n",
       "      <td>4</td>\n",
       "      <td>122</td>\n",
       "      <td>540</td>\n",
       "      <td>0</td>\n",
       "      <td>122</td>\n",
       "      <td>False</td>\n",
       "      <td>0</td>\n",
       "      <td>122</td>\n",
       "      <td>0</td>\n",
       "    </tr>\n",
       "    <tr>\n",
       "      <th>...</th>\n",
       "      <td>...</td>\n",
       "      <td>...</td>\n",
       "      <td>...</td>\n",
       "      <td>...</td>\n",
       "      <td>...</td>\n",
       "      <td>...</td>\n",
       "      <td>...</td>\n",
       "      <td>...</td>\n",
       "      <td>...</td>\n",
       "    </tr>\n",
       "    <tr>\n",
       "      <th>145</th>\n",
       "      <td>145</td>\n",
       "      <td>140810</td>\n",
       "      <td>1950</td>\n",
       "      <td>601475</td>\n",
       "      <td>634590</td>\n",
       "      <td>True</td>\n",
       "      <td>632640</td>\n",
       "      <td>1950</td>\n",
       "      <td>107695</td>\n",
       "    </tr>\n",
       "    <tr>\n",
       "      <th>146</th>\n",
       "      <td>146</td>\n",
       "      <td>148030</td>\n",
       "      <td>1960</td>\n",
       "      <td>632640</td>\n",
       "      <td>667299</td>\n",
       "      <td>True</td>\n",
       "      <td>665339</td>\n",
       "      <td>1960</td>\n",
       "      <td>113371</td>\n",
       "    </tr>\n",
       "    <tr>\n",
       "      <th>147</th>\n",
       "      <td>147</td>\n",
       "      <td>155620</td>\n",
       "      <td>1970</td>\n",
       "      <td>665339</td>\n",
       "      <td>701737</td>\n",
       "      <td>True</td>\n",
       "      <td>699767</td>\n",
       "      <td>1970</td>\n",
       "      <td>119222</td>\n",
       "    </tr>\n",
       "    <tr>\n",
       "      <th>148</th>\n",
       "      <td>148</td>\n",
       "      <td>163598</td>\n",
       "      <td>1980</td>\n",
       "      <td>699767</td>\n",
       "      <td>737885</td>\n",
       "      <td>True</td>\n",
       "      <td>735905</td>\n",
       "      <td>1980</td>\n",
       "      <td>125480</td>\n",
       "    </tr>\n",
       "    <tr>\n",
       "      <th>149</th>\n",
       "      <td>149</td>\n",
       "      <td>171986</td>\n",
       "      <td>1990</td>\n",
       "      <td>735905</td>\n",
       "      <td>775928</td>\n",
       "      <td>True</td>\n",
       "      <td>773938</td>\n",
       "      <td>1990</td>\n",
       "      <td>131963</td>\n",
       "    </tr>\n",
       "  </tbody>\n",
       "</table>\n",
       "<p>150 rows × 9 columns</p>\n",
       "</div>"
      ],
      "text/plain": [
       "     time  new_applicants  capacity spillover_to_next_day  \\\n",
       "0       0             100       500                     0   \n",
       "1       1             105       510                     0   \n",
       "2       2             111       520                     0   \n",
       "3       3             116       530                     0   \n",
       "4       4             122       540                     0   \n",
       "..    ...             ...       ...                   ...   \n",
       "145   145          140810      1950                601475   \n",
       "146   146          148030      1960                632640   \n",
       "147   147          155620      1970                665339   \n",
       "148   148          163598      1980                699767   \n",
       "149   149          171986      1990                735905   \n",
       "\n",
       "    total_applications_today capacity_exceeded capacity_exceeded_by  \\\n",
       "0                        100             False                    0   \n",
       "1                        105             False                    0   \n",
       "2                        111             False                    0   \n",
       "3                        116             False                    0   \n",
       "4                        122             False                    0   \n",
       "..                       ...               ...                  ...   \n",
       "145                   634590              True               632640   \n",
       "146                   667299              True               665339   \n",
       "147                   701737              True               699767   \n",
       "148                   737885              True               735905   \n",
       "149                   775928              True               773938   \n",
       "\n",
       "    number_swabbed_today number_left_queue_not_tested  \n",
       "0                    100                            0  \n",
       "1                    105                            0  \n",
       "2                    111                            0  \n",
       "3                    116                            0  \n",
       "4                    122                            0  \n",
       "..                   ...                          ...  \n",
       "145                 1950                       107695  \n",
       "146                 1960                       113371  \n",
       "147                 1970                       119222  \n",
       "148                 1980                       125480  \n",
       "149                 1990                       131963  \n",
       "\n",
       "[150 rows x 9 columns]"
      ]
     },
     "execution_count": 7,
     "metadata": {},
     "output_type": "execute_result"
    }
   ],
   "source": [
    "my_queue.queue_info"
   ]
  },
  {
   "cell_type": "code",
   "execution_count": 14,
   "metadata": {},
   "outputs": [
    {
     "data": {
      "text/plain": [
       "Text(0.5, 0, 'Time (days)')"
      ]
     },
     "execution_count": 14,
     "metadata": {},
     "output_type": "execute_result"
    },
    {
     "data": {
      "image/png": "[encoded data removed]",
      "text/plain": [
       "<Figure size 432x288 with 1 Axes>"
      ]
     },
     "metadata": {
      "needs_background": "light"
     },
     "output_type": "display_data"
    }
   ],
   "source": [
    "plt.plot('time','capacity_exceeded_by', data = my_queue.queue_info)\n",
    "plt.plot('time','capacity', data = my_queue.queue_info)\n",
    "plt.plot('time','spillover_to_next_day', data = my_queue.queue_info)\n",
    "plt.plot('time','number_left_queue_not_tested', data = my_queue.queue_info)\n",
    "plt.plot('time','new_applicants', data = my_queue.queue_info)\n",
    "plt.legend()\n",
    "plt.title('Queueing process summary statistics')\n",
    "plt.xlabel('Time (days)')"
   ]
  },
  {
   "cell_type": "code",
   "execution_count": 16,
   "metadata": {},
   "outputs": [
    {
     "data": {
      "text/plain": [
       "Text(0, 0.5, '$P$(getting tested)')"
      ]
     },
     "execution_count": 16,
     "metadata": {},
     "output_type": "execute_result"
    },
    {
     "data": {
      "image/png": "[encoded data removed]",
      "text/plain": [
       "<Figure size 432x288 with 1 Axes>"
      ]
     },
     "metadata": {
      "needs_background": "light"
     },
     "output_type": "display_data"
    }
   ],
   "source": [
    "plt.plot([my_queue.get_prob_getting_tested(time) for time in range(130)])\n",
    "plt.title('Probability of successfully getting tested')\n",
    "plt.xlabel('Day of joining queue (days)')\n",
    "plt.ylabel('$P$(getting tested)')"
   ]
  },
  {
   "cell_type": "code",
   "execution_count": 10,
   "metadata": {},
   "outputs": [
    {
     "data": {
      "text/html": [
       "<div>\n",
       "<style scoped>\n",
       "    .dataframe tbody tr th:only-of-type {\n",
       "        vertical-align: middle;\n",
       "    }\n",
       "\n",
       "    .dataframe tbody tr th {\n",
       "        vertical-align: top;\n",
       "    }\n",
       "\n",
       "    .dataframe thead th {\n",
       "        text-align: right;\n",
       "    }\n",
       "</style>\n",
       "<table border=\"1\" class=\"dataframe\">\n",
       "  <thead>\n",
       "    <tr style=\"text-align: right;\">\n",
       "      <th></th>\n",
       "      <th>symptom_onset</th>\n",
       "      <th>time_entered_queue</th>\n",
       "      <th>time_will_leave_queue</th>\n",
       "      <th>swabbed</th>\n",
       "      <th>time_swabbed</th>\n",
       "      <th>time_received_result</th>\n",
       "      <th>waiting_to_be_swabbed</th>\n",
       "      <th>left_queue_not_swabbed</th>\n",
       "    </tr>\n",
       "  </thead>\n",
       "  <tbody>\n",
       "    <tr>\n",
       "      <th>0</th>\n",
       "      <td>-2</td>\n",
       "      <td>0</td>\n",
       "      <td>5</td>\n",
       "      <td>True</td>\n",
       "      <td>0</td>\n",
       "      <td>1</td>\n",
       "      <td>False</td>\n",
       "      <td>False</td>\n",
       "    </tr>\n",
       "    <tr>\n",
       "      <th>1</th>\n",
       "      <td>-2</td>\n",
       "      <td>0</td>\n",
       "      <td>5</td>\n",
       "      <td>True</td>\n",
       "      <td>0</td>\n",
       "      <td>1</td>\n",
       "      <td>False</td>\n",
       "      <td>False</td>\n",
       "    </tr>\n",
       "    <tr>\n",
       "      <th>2</th>\n",
       "      <td>-2</td>\n",
       "      <td>0</td>\n",
       "      <td>5</td>\n",
       "      <td>True</td>\n",
       "      <td>0</td>\n",
       "      <td>1</td>\n",
       "      <td>False</td>\n",
       "      <td>False</td>\n",
       "    </tr>\n",
       "    <tr>\n",
       "      <th>3</th>\n",
       "      <td>-2</td>\n",
       "      <td>0</td>\n",
       "      <td>5</td>\n",
       "      <td>True</td>\n",
       "      <td>0</td>\n",
       "      <td>1</td>\n",
       "      <td>False</td>\n",
       "      <td>False</td>\n",
       "    </tr>\n",
       "    <tr>\n",
       "      <th>4</th>\n",
       "      <td>-2</td>\n",
       "      <td>0</td>\n",
       "      <td>5</td>\n",
       "      <td>True</td>\n",
       "      <td>0</td>\n",
       "      <td>1</td>\n",
       "      <td>False</td>\n",
       "      <td>False</td>\n",
       "    </tr>\n",
       "    <tr>\n",
       "      <th>...</th>\n",
       "      <td>...</td>\n",
       "      <td>...</td>\n",
       "      <td>...</td>\n",
       "      <td>...</td>\n",
       "      <td>...</td>\n",
       "      <td>...</td>\n",
       "      <td>...</td>\n",
       "      <td>...</td>\n",
       "    </tr>\n",
       "    <tr>\n",
       "      <th>3524480</th>\n",
       "      <td>147</td>\n",
       "      <td>149</td>\n",
       "      <td>154</td>\n",
       "      <td>False</td>\n",
       "      <td></td>\n",
       "      <td></td>\n",
       "      <td>True</td>\n",
       "      <td></td>\n",
       "    </tr>\n",
       "    <tr>\n",
       "      <th>3524481</th>\n",
       "      <td>147</td>\n",
       "      <td>149</td>\n",
       "      <td>154</td>\n",
       "      <td>False</td>\n",
       "      <td></td>\n",
       "      <td></td>\n",
       "      <td>True</td>\n",
       "      <td></td>\n",
       "    </tr>\n",
       "    <tr>\n",
       "      <th>3524482</th>\n",
       "      <td>147</td>\n",
       "      <td>149</td>\n",
       "      <td>154</td>\n",
       "      <td>False</td>\n",
       "      <td></td>\n",
       "      <td></td>\n",
       "      <td>True</td>\n",
       "      <td></td>\n",
       "    </tr>\n",
       "    <tr>\n",
       "      <th>3524483</th>\n",
       "      <td>147</td>\n",
       "      <td>149</td>\n",
       "      <td>154</td>\n",
       "      <td>False</td>\n",
       "      <td></td>\n",
       "      <td></td>\n",
       "      <td>True</td>\n",
       "      <td></td>\n",
       "    </tr>\n",
       "    <tr>\n",
       "      <th>3524484</th>\n",
       "      <td>147</td>\n",
       "      <td>149</td>\n",
       "      <td>154</td>\n",
       "      <td>False</td>\n",
       "      <td></td>\n",
       "      <td></td>\n",
       "      <td>True</td>\n",
       "      <td></td>\n",
       "    </tr>\n",
       "  </tbody>\n",
       "</table>\n",
       "<p>3524485 rows × 8 columns</p>\n",
       "</div>"
      ],
      "text/plain": [
       "         symptom_onset  time_entered_queue  time_will_leave_queue  swabbed  \\\n",
       "0                   -2                   0                      5     True   \n",
       "1                   -2                   0                      5     True   \n",
       "2                   -2                   0                      5     True   \n",
       "3                   -2                   0                      5     True   \n",
       "4                   -2                   0                      5     True   \n",
       "...                ...                 ...                    ...      ...   \n",
       "3524480            147                 149                    154    False   \n",
       "3524481            147                 149                    154    False   \n",
       "3524482            147                 149                    154    False   \n",
       "3524483            147                 149                    154    False   \n",
       "3524484            147                 149                    154    False   \n",
       "\n",
       "        time_swabbed time_received_result  waiting_to_be_swabbed  \\\n",
       "0                  0                    1                  False   \n",
       "1                  0                    1                  False   \n",
       "2                  0                    1                  False   \n",
       "3                  0                    1                  False   \n",
       "4                  0                    1                  False   \n",
       "...              ...                  ...                    ...   \n",
       "3524480                                                     True   \n",
       "3524481                                                     True   \n",
       "3524482                                                     True   \n",
       "3524483                                                     True   \n",
       "3524484                                                     True   \n",
       "\n",
       "        left_queue_not_swabbed  \n",
       "0                        False  \n",
       "1                        False  \n",
       "2                        False  \n",
       "3                        False  \n",
       "4                        False  \n",
       "...                        ...  \n",
       "3524480                         \n",
       "3524481                         \n",
       "3524482                         \n",
       "3524483                         \n",
       "3524484                         \n",
       "\n",
       "[3524485 rows x 8 columns]"
      ]
     },
     "execution_count": 10,
     "metadata": {},
     "output_type": "execute_result"
    }
   ],
   "source": [
    "my_queue.applicant_info"
   ]
  },
  {
   "cell_type": "code",
   "execution_count": 11,
   "metadata": {},
   "outputs": [
    {
     "data": {
      "text/plain": [
       "Text(0.5, 1.0, 'Symptom onset to receiving result distribution on day 60')"
      ]
     },
     "execution_count": 11,
     "metadata": {},
     "output_type": "execute_result"
    },
    {
     "data": {
      "image/png": "[encoded data removed]",
      "text/plain": [
       "<Figure size 432x288 with 1 Axes>"
      ]
     },
     "metadata": {
      "needs_background": "light"
     },
     "output_type": "display_data"
    }
   ],
   "source": [
    "time = 60\n",
    "\n",
    "delays = my_queue.get_delays_for(time_entered_queue = time,\n",
    "                                 delay_from_column = 'symptom_onset',\n",
    "                                 delay_to_column = 'time_received_result')\n",
    "\n",
    "bin_count = delays.max() - delays.min()\n",
    "\n",
    "delays.hist(bins = bin_count, grid = False)\n",
    "plt.title(f'Symptom onset to receiving result distribution on day {time}')"
   ]
  },
  {
   "cell_type": "code",
   "execution_count": null,
   "metadata": {},
   "outputs": [],
   "source": []
  }
 ],
 "metadata": {
  "kernelspec": {
   "display_name": "Python 3.8.3 64-bit (conda)",
   "language": "python",
   "name": "python38364bitconda92027b03cb4c449199064b12fc402ff9"
  },
  "language_info": {
   "codemirror_mode": {
    "name": "ipython",
    "version": 3
   },
   "file_extension": ".py",
   "mimetype": "text/x-python",
   "name": "python",
   "nbconvert_exporter": "python",
   "pygments_lexer": "ipython3",
   "version": "3.8.3"
  }
 },
 "nbformat": 4,
 "nbformat_minor": 4
}
