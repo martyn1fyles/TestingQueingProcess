{
 "cells": [
  {
   "cell_type": "code",
   "execution_count": 1,
   "metadata": {},
   "outputs": [],
   "source": [
    "import queueing_process as qp\n",
    "import matplotlib.pyplot as plt\n",
    "import numpy as np"
   ]
  },
  {
   "cell_type": "markdown",
   "metadata": {},
   "source": [
    "# Placeholder delay distributions"
   ]
  },
  {
   "cell_type": "code",
   "execution_count": 2,
   "metadata": {},
   "outputs": [],
   "source": [
    "def symptom_onset_to_joining_queue():\n",
    "    return 2"
   ]
  },
  {
   "cell_type": "code",
   "execution_count": 3,
   "metadata": {},
   "outputs": [],
   "source": [
    "def test_processing_delay_dist():\n",
    "    return 1"
   ]
  },
  {
   "cell_type": "markdown",
   "metadata": {},
   "source": [
    "# Model set up"
   ]
  },
  {
   "cell_type": "code",
   "execution_count": 36,
   "metadata": {},
   "outputs": [],
   "source": [
    "days_to_simulate = 75\n",
    "demand = [int(round(100*np.exp(0.05 * time))) for time in range(days_to_simulate)] \n",
    "capacity = [50 + time * 10 for time in range(days_to_simulate)]"
   ]
  },
  {
   "cell_type": "code",
   "execution_count": 37,
   "metadata": {},
   "outputs": [],
   "source": [
    "my_queue = qp.queueing_process(\n",
    "    days_to_simulate = days_to_simulate,\n",
    "    capacity = capacity,\n",
    "    demand = demand,\n",
    "    symptom_onset_to_joining_queue_dist = symptom_onset_to_joining_queue,\n",
    "    test_processing_delay_dist = test_processing_delay_dist\n",
    ")"
   ]
  },
  {
   "cell_type": "code",
   "execution_count": 38,
   "metadata": {},
   "outputs": [
    {
     "name": "stdout",
     "output_type": "stream",
     "text": [
      "Model time 74, progress: 100%\r"
     ]
    }
   ],
   "source": [
    "my_queue.run_simulation()"
   ]
  },
  {
   "cell_type": "code",
   "execution_count": 39,
   "metadata": {},
   "outputs": [
    {
     "data": {
      "text/html": [
       "<div>\n",
       "<style scoped>\n",
       "    .dataframe tbody tr th:only-of-type {\n",
       "        vertical-align: middle;\n",
       "    }\n",
       "\n",
       "    .dataframe tbody tr th {\n",
       "        vertical-align: top;\n",
       "    }\n",
       "\n",
       "    .dataframe thead th {\n",
       "        text-align: right;\n",
       "    }\n",
       "</style>\n",
       "<table border=\"1\" class=\"dataframe\">\n",
       "  <thead>\n",
       "    <tr style=\"text-align: right;\">\n",
       "      <th></th>\n",
       "      <th>time</th>\n",
       "      <th>new_applicants</th>\n",
       "      <th>capacity</th>\n",
       "      <th>spillover_to_next_day</th>\n",
       "      <th>total_applications_today</th>\n",
       "      <th>capacity_exceeded</th>\n",
       "      <th>capacity_exceeded_by</th>\n",
       "      <th>number_swabbed_today</th>\n",
       "      <th>number_left_queue_not_tested</th>\n",
       "    </tr>\n",
       "  </thead>\n",
       "  <tbody>\n",
       "    <tr>\n",
       "      <th>0</th>\n",
       "      <td>0</td>\n",
       "      <td>100</td>\n",
       "      <td>5</td>\n",
       "      <td>0</td>\n",
       "      <td>100</td>\n",
       "      <td>True</td>\n",
       "      <td>95</td>\n",
       "      <td>5</td>\n",
       "      <td>0</td>\n",
       "    </tr>\n",
       "    <tr>\n",
       "      <th>1</th>\n",
       "      <td>1</td>\n",
       "      <td>105</td>\n",
       "      <td>12</td>\n",
       "      <td>95</td>\n",
       "      <td>200</td>\n",
       "      <td>True</td>\n",
       "      <td>188</td>\n",
       "      <td>12</td>\n",
       "      <td>0</td>\n",
       "    </tr>\n",
       "    <tr>\n",
       "      <th>2</th>\n",
       "      <td>2</td>\n",
       "      <td>111</td>\n",
       "      <td>19</td>\n",
       "      <td>188</td>\n",
       "      <td>299</td>\n",
       "      <td>True</td>\n",
       "      <td>280</td>\n",
       "      <td>19</td>\n",
       "      <td>0</td>\n",
       "    </tr>\n",
       "    <tr>\n",
       "      <th>3</th>\n",
       "      <td>3</td>\n",
       "      <td>116</td>\n",
       "      <td>26</td>\n",
       "      <td>280</td>\n",
       "      <td>396</td>\n",
       "      <td>True</td>\n",
       "      <td>370</td>\n",
       "      <td>26</td>\n",
       "      <td>0</td>\n",
       "    </tr>\n",
       "    <tr>\n",
       "      <th>4</th>\n",
       "      <td>4</td>\n",
       "      <td>122</td>\n",
       "      <td>33</td>\n",
       "      <td>370</td>\n",
       "      <td>492</td>\n",
       "      <td>True</td>\n",
       "      <td>459</td>\n",
       "      <td>33</td>\n",
       "      <td>0</td>\n",
       "    </tr>\n",
       "    <tr>\n",
       "      <th>...</th>\n",
       "      <td>...</td>\n",
       "      <td>...</td>\n",
       "      <td>...</td>\n",
       "      <td>...</td>\n",
       "      <td>...</td>\n",
       "      <td>...</td>\n",
       "      <td>...</td>\n",
       "      <td>...</td>\n",
       "      <td>...</td>\n",
       "    </tr>\n",
       "    <tr>\n",
       "      <th>70</th>\n",
       "      <td>70</td>\n",
       "      <td>3312</td>\n",
       "      <td>495</td>\n",
       "      <td>12773</td>\n",
       "      <td>13979</td>\n",
       "      <td>True</td>\n",
       "      <td>13484</td>\n",
       "      <td>495</td>\n",
       "      <td>2106</td>\n",
       "    </tr>\n",
       "    <tr>\n",
       "      <th>71</th>\n",
       "      <td>71</td>\n",
       "      <td>3481</td>\n",
       "      <td>502</td>\n",
       "      <td>13484</td>\n",
       "      <td>14711</td>\n",
       "      <td>True</td>\n",
       "      <td>14209</td>\n",
       "      <td>502</td>\n",
       "      <td>2254</td>\n",
       "    </tr>\n",
       "    <tr>\n",
       "      <th>72</th>\n",
       "      <td>72</td>\n",
       "      <td>3660</td>\n",
       "      <td>509</td>\n",
       "      <td>14209</td>\n",
       "      <td>15510</td>\n",
       "      <td>True</td>\n",
       "      <td>15001</td>\n",
       "      <td>509</td>\n",
       "      <td>2359</td>\n",
       "    </tr>\n",
       "    <tr>\n",
       "      <th>73</th>\n",
       "      <td>73</td>\n",
       "      <td>3847</td>\n",
       "      <td>516</td>\n",
       "      <td>15001</td>\n",
       "      <td>16345</td>\n",
       "      <td>True</td>\n",
       "      <td>15829</td>\n",
       "      <td>516</td>\n",
       "      <td>2503</td>\n",
       "    </tr>\n",
       "    <tr>\n",
       "      <th>74</th>\n",
       "      <td>74</td>\n",
       "      <td>4045</td>\n",
       "      <td>523</td>\n",
       "      <td>15829</td>\n",
       "      <td>17258</td>\n",
       "      <td>True</td>\n",
       "      <td>16735</td>\n",
       "      <td>523</td>\n",
       "      <td>2616</td>\n",
       "    </tr>\n",
       "  </tbody>\n",
       "</table>\n",
       "<p>75 rows × 9 columns</p>\n",
       "</div>"
      ],
      "text/plain": [
       "    time  new_applicants  capacity spillover_to_next_day  \\\n",
       "0      0             100         5                     0   \n",
       "1      1             105        12                    95   \n",
       "2      2             111        19                   188   \n",
       "3      3             116        26                   280   \n",
       "4      4             122        33                   370   \n",
       "..   ...             ...       ...                   ...   \n",
       "70    70            3312       495                 12773   \n",
       "71    71            3481       502                 13484   \n",
       "72    72            3660       509                 14209   \n",
       "73    73            3847       516                 15001   \n",
       "74    74            4045       523                 15829   \n",
       "\n",
       "   total_applications_today capacity_exceeded capacity_exceeded_by  \\\n",
       "0                       100              True                   95   \n",
       "1                       200              True                  188   \n",
       "2                       299              True                  280   \n",
       "3                       396              True                  370   \n",
       "4                       492              True                  459   \n",
       "..                      ...               ...                  ...   \n",
       "70                    13979              True                13484   \n",
       "71                    14711              True                14209   \n",
       "72                    15510              True                15001   \n",
       "73                    16345              True                15829   \n",
       "74                    17258              True                16735   \n",
       "\n",
       "   number_swabbed_today number_left_queue_not_tested  \n",
       "0                     5                            0  \n",
       "1                    12                            0  \n",
       "2                    19                            0  \n",
       "3                    26                            0  \n",
       "4                    33                            0  \n",
       "..                  ...                          ...  \n",
       "70                  495                         2106  \n",
       "71                  502                         2254  \n",
       "72                  509                         2359  \n",
       "73                  516                         2503  \n",
       "74                  523                         2616  \n",
       "\n",
       "[75 rows x 9 columns]"
      ]
     },
     "execution_count": 39,
     "metadata": {},
     "output_type": "execute_result"
    }
   ],
   "source": [
    "my_queue.queue_info"
   ]
  },
  {
   "cell_type": "code",
   "execution_count": 40,
   "metadata": {},
   "outputs": [
    {
     "data": {
      "text/plain": [
       "Text(0.5, 1.0, 'Queueing process summary statistics')"
      ]
     },
     "execution_count": 40,
     "metadata": {},
     "output_type": "execute_result"
    },
    {
     "data": {
      "image/png": "[encoded data removed]",
      "text/plain": [
       "<Figure size 432x288 with 1 Axes>"
      ]
     },
     "metadata": {
      "needs_background": "light"
     },
     "output_type": "display_data"
    }
   ],
   "source": [
    "plt.plot('time','capacity_exceeded_by', data = my_queue.queue_info)\n",
    "plt.plot('time','capacity', data = my_queue.queue_info)\n",
    "plt.plot('time','spillover_to_next_day', data = my_queue.queue_info)\n",
    "plt.plot('time','number_left_queue_not_tested', data = my_queue.queue_info)\n",
    "plt.plot('time','new_applicants', data = my_queue.queue_info)\n",
    "plt.legend()\n",
    "plt.title('Queueing process summary statistics')"
   ]
  },
  {
   "cell_type": "code",
   "execution_count": 41,
   "metadata": {},
   "outputs": [
    {
     "data": {
      "text/plain": [
       "Text(0.5, 1.0, 'Symptom onset to receiving result distribution on day 60')"
      ]
     },
     "execution_count": 41,
     "metadata": {},
     "output_type": "execute_result"
    },
    {
     "data": {
      "image/png": "[encoded data removed]",
      "text/plain": [
       "<Figure size 432x288 with 1 Axes>"
      ]
     },
     "metadata": {
      "needs_background": "light"
     },
     "output_type": "display_data"
    }
   ],
   "source": [
    "time = 60\n",
    "\n",
    "delays = my_queue.get_delays_for(time_entered_queue = time,\n",
    "                                 delay_from_column = 'symptom_onset',\n",
    "                                 delay_to_column = 'time_received_result')\n",
    "\n",
    "bin_count = delays.max() - delays.min()\n",
    "\n",
    "delays.hist(bins = bin_count, grid = False)\n",
    "plt.title(f'Symptom onset to receiving result distribution on day {time}')"
   ]
  },
  {
   "cell_type": "code",
   "execution_count": null,
   "metadata": {},
   "outputs": [],
   "source": []
  }
 ],
 "metadata": {
  "kernelspec": {
   "display_name": "Python 3.8.3 64-bit (conda)",
   "language": "python",
   "name": "python38364bitconda92027b03cb4c449199064b12fc402ff9"
  },
  "language_info": {
   "codemirror_mode": {
    "name": "ipython",
    "version": 3
   },
   "file_extension": ".py",
   "mimetype": "text/x-python",
   "name": "python",
   "nbconvert_exporter": "python",
   "pygments_lexer": "ipython3",
   "version": "3.8.3"
  }
 },
 "nbformat": 4,
 "nbformat_minor": 4
}
